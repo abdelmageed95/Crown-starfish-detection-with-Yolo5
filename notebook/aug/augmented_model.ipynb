{
  "cells": [
    {
      "cell_type": "code",
      "source": [
        "from google.colab import drive\n",
        "drive.mount('/content/drive')"
      ],
      "metadata": {
        "colab": {
          "base_uri": "https://localhost:8080/"
        },
        "id": "7-2cfM3kbnWU",
        "outputId": "51d4d24a-2301-4f67-e769-88a3ad0f9b8f"
      },
      "execution_count": 2,
      "outputs": [
        {
          "output_type": "stream",
          "name": "stdout",
          "text": [
            "Mounted at /content/drive\n"
          ]
        }
      ]
    },
    {
      "cell_type": "code",
      "execution_count": 3,
      "metadata": {
        "colab": {
          "base_uri": "https://localhost:8080/"
        },
        "id": "ICQ_AeTTkEOj",
        "outputId": "71f17fac-e3a6-4101-fd58-650cea097818"
      },
      "outputs": [
        {
          "output_type": "stream",
          "name": "stdout",
          "text": [
            "Setup complete. Using torch 1.10.0+cu111 (Tesla T4)\n"
          ]
        }
      ],
      "source": [
        "import torch\n",
        "import os\n",
        "from IPython.display import Image, clear_output  # to display images\n",
        "\n",
        "print(f\"Setup complete. Using torch {torch.__version__} ({torch.cuda.get_device_properties(0).name if torch.cuda.is_available() else 'CPU'})\")"
      ]
    },
    {
      "cell_type": "code",
      "execution_count": 4,
      "metadata": {
        "colab": {
          "base_uri": "https://localhost:8080/"
        },
        "id": "1de2ZgO6bjzN",
        "outputId": "ac0e352a-e033-44e2-e3a9-a2464b650615"
      },
      "outputs": [
        {
          "output_type": "stream",
          "name": "stdout",
          "text": [
            "Cloning into 'yolov5'...\n",
            "remote: Enumerating objects: 12293, done.\u001b[K\n",
            "remote: Counting objects: 100% (19/19), done.\u001b[K\n",
            "remote: Compressing objects: 100% (11/11), done.\u001b[K\n",
            "remote: Total 12293 (delta 8), reused 19 (delta 8), pack-reused 12274\u001b[K\n",
            "Receiving objects: 100% (12293/12293), 11.47 MiB | 33.27 MiB/s, done.\n",
            "Resolving deltas: 100% (8543/8543), done.\n"
          ]
        }
      ],
      "source": [
        "#clone YOLOv5 and \n",
        "!git clone https://github.com/ultralytics/yolov5  # clone repo\n",
        "# %cd yolov5\n",
        "# %pip install -qr requirements.txt # install dependencies"
      ]
    },
    {
      "cell_type": "code",
      "source": [
        "!pip install roboflow\n",
        "\n",
        "\n",
        "from roboflow import Roboflow\n",
        "rf = Roboflow(api_key=\"hqLXCQO0Fwr7uhasaG01\")\n",
        "project = rf.workspace(\"abdelmageed-ahmed-2ji7p\").project(\"starfish-dnvdh\")\n",
        "dataset = project.version(3).download(\"yolov5\")"
      ],
      "metadata": {
        "colab": {
          "base_uri": "https://localhost:8080/",
          "height": 1000
        },
        "id": "JZq9SUS1chht",
        "outputId": "11ed106e-a28c-45a9-bb1c-d5f49658d1c7"
      },
      "execution_count": 5,
      "outputs": [
        {
          "output_type": "stream",
          "name": "stdout",
          "text": [
            "Collecting roboflow\n",
            "  Downloading roboflow-0.2.4.tar.gz (15 kB)\n",
            "Collecting certifi==2021.5.30\n",
            "  Downloading certifi-2021.5.30-py2.py3-none-any.whl (145 kB)\n",
            "\u001b[K     |████████████████████████████████| 145 kB 5.0 MB/s \n",
            "\u001b[?25hCollecting chardet==4.0.0\n",
            "  Downloading chardet-4.0.0-py2.py3-none-any.whl (178 kB)\n",
            "\u001b[K     |████████████████████████████████| 178 kB 44.4 MB/s \n",
            "\u001b[?25hCollecting cycler==0.10.0\n",
            "  Downloading cycler-0.10.0-py2.py3-none-any.whl (6.5 kB)\n",
            "Requirement already satisfied: idna==2.10 in /usr/local/lib/python3.7/dist-packages (from roboflow) (2.10)\n",
            "Collecting kiwisolver==1.3.1\n",
            "  Downloading kiwisolver-1.3.1-cp37-cp37m-manylinux1_x86_64.whl (1.1 MB)\n",
            "\u001b[K     |████████████████████████████████| 1.1 MB 66.6 MB/s \n",
            "\u001b[?25hRequirement already satisfied: matplotlib in /usr/local/lib/python3.7/dist-packages (from roboflow) (3.2.2)\n",
            "Requirement already satisfied: numpy>=1.18.5 in /usr/local/lib/python3.7/dist-packages (from roboflow) (1.21.5)\n",
            "Requirement already satisfied: opencv-python>=4.1.2 in /usr/local/lib/python3.7/dist-packages (from roboflow) (4.1.2.30)\n",
            "Requirement already satisfied: Pillow>=7.1.2 in /usr/local/lib/python3.7/dist-packages (from roboflow) (7.1.2)\n",
            "Collecting pyparsing==2.4.7\n",
            "  Downloading pyparsing-2.4.7-py2.py3-none-any.whl (67 kB)\n",
            "\u001b[K     |████████████████████████████████| 67 kB 7.3 MB/s \n",
            "\u001b[?25hRequirement already satisfied: python-dateutil in /usr/local/lib/python3.7/dist-packages (from roboflow) (2.8.2)\n",
            "Collecting python-dotenv\n",
            "  Downloading python_dotenv-0.20.0-py3-none-any.whl (17 kB)\n",
            "Requirement already satisfied: requests in /usr/local/lib/python3.7/dist-packages (from roboflow) (2.23.0)\n",
            "Collecting requests_toolbelt\n",
            "  Downloading requests_toolbelt-0.9.1-py2.py3-none-any.whl (54 kB)\n",
            "\u001b[K     |████████████████████████████████| 54 kB 3.4 MB/s \n",
            "\u001b[?25hRequirement already satisfied: six in /usr/local/lib/python3.7/dist-packages (from roboflow) (1.15.0)\n",
            "Collecting urllib3==1.26.6\n",
            "  Downloading urllib3-1.26.6-py2.py3-none-any.whl (138 kB)\n",
            "\u001b[K     |████████████████████████████████| 138 kB 52.3 MB/s \n",
            "\u001b[?25hCollecting wget\n",
            "  Downloading wget-3.2.zip (10 kB)\n",
            "Requirement already satisfied: tqdm>=4.41.0 in /usr/local/lib/python3.7/dist-packages (from roboflow) (4.63.0)\n",
            "Collecting PyYAML>=5.3.1\n",
            "  Downloading PyYAML-6.0-cp37-cp37m-manylinux_2_5_x86_64.manylinux1_x86_64.manylinux_2_12_x86_64.manylinux2010_x86_64.whl (596 kB)\n",
            "\u001b[K     |████████████████████████████████| 596 kB 56.6 MB/s \n",
            "\u001b[?25hCollecting requests\n",
            "  Downloading requests-2.27.1-py2.py3-none-any.whl (63 kB)\n",
            "\u001b[K     |████████████████████████████████| 63 kB 2.3 MB/s \n",
            "\u001b[?25hRequirement already satisfied: charset-normalizer~=2.0.0 in /usr/local/lib/python3.7/dist-packages (from requests->roboflow) (2.0.12)\n",
            "Building wheels for collected packages: roboflow, wget\n",
            "  Building wheel for roboflow (setup.py) ... \u001b[?25l\u001b[?25hdone\n",
            "  Created wheel for roboflow: filename=roboflow-0.2.4-py3-none-any.whl size=21356 sha256=d2880b26373f1aca04d3c22c17500b26b1b5b9177b56e846c814a7fdd7857976\n",
            "  Stored in directory: /root/.cache/pip/wheels/b7/2c/60/3733c0e323b1d7aec00f852264314bf6c48192c8e1dc92b3ee\n",
            "  Building wheel for wget (setup.py) ... \u001b[?25l\u001b[?25hdone\n",
            "  Created wheel for wget: filename=wget-3.2-py3-none-any.whl size=9675 sha256=727d0270c47aca0663bb2f5d39cfd83d923c7197c65c3276c83e5ca33c627963\n",
            "  Stored in directory: /root/.cache/pip/wheels/a1/b6/7c/0e63e34eb06634181c63adacca38b79ff8f35c37e3c13e3c02\n",
            "Successfully built roboflow wget\n",
            "Installing collected packages: urllib3, certifi, requests, pyparsing, kiwisolver, cycler, wget, requests-toolbelt, PyYAML, python-dotenv, chardet, roboflow\n",
            "  Attempting uninstall: urllib3\n",
            "    Found existing installation: urllib3 1.24.3\n",
            "    Uninstalling urllib3-1.24.3:\n",
            "      Successfully uninstalled urllib3-1.24.3\n",
            "  Attempting uninstall: certifi\n",
            "    Found existing installation: certifi 2021.10.8\n",
            "    Uninstalling certifi-2021.10.8:\n",
            "      Successfully uninstalled certifi-2021.10.8\n",
            "  Attempting uninstall: requests\n",
            "    Found existing installation: requests 2.23.0\n",
            "    Uninstalling requests-2.23.0:\n",
            "      Successfully uninstalled requests-2.23.0\n",
            "  Attempting uninstall: pyparsing\n",
            "    Found existing installation: pyparsing 3.0.7\n",
            "    Uninstalling pyparsing-3.0.7:\n",
            "      Successfully uninstalled pyparsing-3.0.7\n",
            "  Attempting uninstall: kiwisolver\n",
            "    Found existing installation: kiwisolver 1.4.0\n",
            "    Uninstalling kiwisolver-1.4.0:\n",
            "      Successfully uninstalled kiwisolver-1.4.0\n",
            "  Attempting uninstall: cycler\n",
            "    Found existing installation: cycler 0.11.0\n",
            "    Uninstalling cycler-0.11.0:\n",
            "      Successfully uninstalled cycler-0.11.0\n",
            "  Attempting uninstall: PyYAML\n",
            "    Found existing installation: PyYAML 3.13\n",
            "    Uninstalling PyYAML-3.13:\n",
            "      Successfully uninstalled PyYAML-3.13\n",
            "  Attempting uninstall: chardet\n",
            "    Found existing installation: chardet 3.0.4\n",
            "    Uninstalling chardet-3.0.4:\n",
            "      Successfully uninstalled chardet-3.0.4\n",
            "\u001b[31mERROR: pip's dependency resolver does not currently take into account all the packages that are installed. This behaviour is the source of the following dependency conflicts.\n",
            "google-colab 1.0.0 requires requests~=2.23.0, but you have requests 2.27.1 which is incompatible.\n",
            "datascience 0.10.6 requires folium==0.2.1, but you have folium 0.8.3 which is incompatible.\n",
            "albumentations 0.1.12 requires imgaug<0.2.7,>=0.2.5, but you have imgaug 0.2.9 which is incompatible.\u001b[0m\n",
            "Successfully installed PyYAML-6.0 certifi-2021.5.30 chardet-4.0.0 cycler-0.10.0 kiwisolver-1.3.1 pyparsing-2.4.7 python-dotenv-0.20.0 requests-2.27.1 requests-toolbelt-0.9.1 roboflow-0.2.4 urllib3-1.26.6 wget-3.2\n"
          ]
        },
        {
          "output_type": "display_data",
          "data": {
            "application/vnd.colab-display-data+json": {
              "pip_warning": {
                "packages": [
                  "cycler",
                  "kiwisolver",
                  "pyparsing"
                ]
              }
            }
          },
          "metadata": {}
        },
        {
          "output_type": "stream",
          "name": "stdout",
          "text": [
            "loading Roboflow workspace...\n",
            "loading Roboflow project...\n",
            "Downloading Dataset Version Zip in starfish-3 to yolov5pytorch: 100% [46029383 / 46029383] bytes\n"
          ]
        },
        {
          "output_type": "stream",
          "name": "stderr",
          "text": [
            "Extracting Dataset Version Zip to starfish-3 in yolov5pytorch:: 100%|██████████| 876/876 [00:00<00:00, 1037.60it/s]\n"
          ]
        }
      ]
    },
    {
      "cell_type": "code",
      "source": [
        "# Load the TensorBoard notebook extension\n",
        "%load_ext tensorboard"
      ],
      "metadata": {
        "id": "VFUB4YgToK2L"
      },
      "execution_count": 7,
      "outputs": []
    },
    {
      "cell_type": "code",
      "execution_count": 8,
      "metadata": {
        "colab": {
          "base_uri": "https://localhost:8080/"
        },
        "id": "SVd2kWA2lQdh",
        "outputId": "dc60072f-ccbd-494a-dd59-62c1861dc3e2"
      },
      "outputs": [
        {
          "output_type": "stream",
          "name": "stdout",
          "text": [
            "\u001b[34m\u001b[1mtrain: \u001b[0mweights=yolov5s.pt, cfg=, data=/content/starfish-3/data.yaml, hyp=yolov5/data/hyps/hyp.scratch-low.yaml, epochs=50, batch_size=8, imgsz=416, rect=False, resume=False, nosave=False, noval=False, noautoanchor=False, evolve=None, bucket=, cache=None, image_weights=False, device=, multi_scale=False, single_cls=False, optimizer=SGD, sync_bn=False, workers=8, project=yolov5/runs/train, name=exp, exist_ok=False, quad=False, cos_lr=False, label_smoothing=0.0, patience=100, freeze=[0], save_period=-1, local_rank=-1, entity=None, upload_dataset=False, bbox_interval=-1, artifact_alias=latest\n",
            "\u001b[34m\u001b[1mgithub: \u001b[0mup to date with https://github.com/ultralytics/yolov5 ✅\n",
            "YOLOv5 🚀 v6.1-74-gcf4f3c3 torch 1.10.0+cu111 CUDA:0 (Tesla T4, 15110MiB)\n",
            "\n",
            "\u001b[34m\u001b[1mhyperparameters: \u001b[0mlr0=0.01, lrf=0.01, momentum=0.937, weight_decay=0.0005, warmup_epochs=3.0, warmup_momentum=0.8, warmup_bias_lr=0.1, box=0.05, cls=0.5, cls_pw=1.0, obj=1.0, obj_pw=1.0, iou_t=0.2, anchor_t=4.0, fl_gamma=0.0, hsv_h=0.015, hsv_s=0.7, hsv_v=0.4, degrees=0.0, translate=0.1, scale=0.5, shear=0.0, perspective=0.0, flipud=0.0, fliplr=0.5, mosaic=1.0, mixup=0.0, copy_paste=0.0\n",
            "\u001b[34m\u001b[1mWeights & Biases: \u001b[0mrun 'pip install wandb' to automatically track and visualize YOLOv5 🚀 runs (RECOMMENDED)\n",
            "\u001b[34m\u001b[1mTensorBoard: \u001b[0mStart with 'tensorboard --logdir yolov5/runs/train', view at http://localhost:6006/\n",
            "Overriding model.yaml nc=80 with nc=1\n",
            "\n",
            "                 from  n    params  module                                  arguments                     \n",
            "  0                -1  1      3520  models.common.Conv                      [3, 32, 6, 2, 2]              \n",
            "  1                -1  1     18560  models.common.Conv                      [32, 64, 3, 2]                \n",
            "  2                -1  1     18816  models.common.C3                        [64, 64, 1]                   \n",
            "  3                -1  1     73984  models.common.Conv                      [64, 128, 3, 2]               \n",
            "  4                -1  2    115712  models.common.C3                        [128, 128, 2]                 \n",
            "  5                -1  1    295424  models.common.Conv                      [128, 256, 3, 2]              \n",
            "  6                -1  3    625152  models.common.C3                        [256, 256, 3]                 \n",
            "  7                -1  1   1180672  models.common.Conv                      [256, 512, 3, 2]              \n",
            "  8                -1  1   1182720  models.common.C3                        [512, 512, 1]                 \n",
            "  9                -1  1    656896  models.common.SPPF                      [512, 512, 5]                 \n",
            " 10                -1  1    131584  models.common.Conv                      [512, 256, 1, 1]              \n",
            " 11                -1  1         0  torch.nn.modules.upsampling.Upsample    [None, 2, 'nearest']          \n",
            " 12           [-1, 6]  1         0  models.common.Concat                    [1]                           \n",
            " 13                -1  1    361984  models.common.C3                        [512, 256, 1, False]          \n",
            " 14                -1  1     33024  models.common.Conv                      [256, 128, 1, 1]              \n",
            " 15                -1  1         0  torch.nn.modules.upsampling.Upsample    [None, 2, 'nearest']          \n",
            " 16           [-1, 4]  1         0  models.common.Concat                    [1]                           \n",
            " 17                -1  1     90880  models.common.C3                        [256, 128, 1, False]          \n",
            " 18                -1  1    147712  models.common.Conv                      [128, 128, 3, 2]              \n",
            " 19          [-1, 14]  1         0  models.common.Concat                    [1]                           \n",
            " 20                -1  1    296448  models.common.C3                        [256, 256, 1, False]          \n",
            " 21                -1  1    590336  models.common.Conv                      [256, 256, 3, 2]              \n",
            " 22          [-1, 10]  1         0  models.common.Concat                    [1]                           \n",
            " 23                -1  1   1182720  models.common.C3                        [512, 512, 1, False]          \n",
            " 24      [17, 20, 23]  1     16182  models.yolo.Detect                      [1, [[10, 13, 16, 30, 33, 23], [30, 61, 62, 45, 59, 119], [116, 90, 156, 198, 373, 326]], [128, 256, 512]]\n",
            "Model summary: 270 layers, 7022326 parameters, 7022326 gradients\n",
            "\n",
            "Transferred 343/349 items from yolov5s.pt\n",
            "Scaled weight_decay = 0.0005\n",
            "\u001b[34m\u001b[1moptimizer:\u001b[0m SGD with parameter groups 57 weight (no decay), 60 weight, 60 bias\n",
            "\u001b[34m\u001b[1malbumentations: \u001b[0mversion 1.0.3 required by YOLOv5, but version 0.1.12 is currently installed\n",
            "\u001b[34m\u001b[1mtrain: \u001b[0mScanning '/content/drive/MyDrive/augmented_processed images/labels.cache' images and labels... 2548 found, 9 missing, 7 empty, 0 corrupt: 100% 2557/2557 [00:00<?, ?it/s]\n",
            "\u001b[34m\u001b[1mval: \u001b[0mScanning '/content/starfish-3/valid/labels' images and labels...44 found, 0 missing, 0 empty, 0 corrupt: 100% 44/44 [00:00<00:00, 1004.76it/s]\n",
            "\u001b[34m\u001b[1mval: \u001b[0mNew cache created: /content/starfish-3/valid/labels.cache\n",
            "Plotting labels to yolov5/runs/train/exp2/labels.jpg... \n",
            "\n",
            "\u001b[34m\u001b[1mAutoAnchor: \u001b[0m5.31 anchors/target, 1.000 Best Possible Recall (BPR). Current anchors are a good fit to dataset ✅\n",
            "Image sizes 416 train, 416 val\n",
            "Using 2 dataloader workers\n",
            "Logging results to \u001b[1myolov5/runs/train/exp2\u001b[0m\n",
            "Starting training for 50 epochs...\n",
            "\n",
            "     Epoch   gpu_mem       box       obj       cls    labels  img_size\n",
            "      0/49    0.872G   0.08585   0.03933         0        20       416: 100% 320/320 [02:30<00:00,  2.12it/s]\n",
            "               Class     Images     Labels          P          R     mAP@.5 mAP@.5:.95: 100% 3/3 [00:00<00:00,  3.51it/s]\n",
            "                 all         44         77      0.462      0.494      0.478      0.146\n",
            "\n",
            "     Epoch   gpu_mem       box       obj       cls    labels  img_size\n",
            "      1/49    0.916G   0.05612   0.03033         0        33       416: 100% 320/320 [01:52<00:00,  2.85it/s]\n",
            "               Class     Images     Labels          P          R     mAP@.5 mAP@.5:.95: 100% 3/3 [00:00<00:00,  4.13it/s]\n",
            "                 all         44         77      0.666      0.726      0.674       0.32\n",
            "\n",
            "     Epoch   gpu_mem       box       obj       cls    labels  img_size\n",
            "      2/49    0.977G   0.04895   0.02751         0        12       416: 100% 320/320 [01:52<00:00,  2.85it/s]\n",
            "               Class     Images     Labels          P          R     mAP@.5 mAP@.5:.95: 100% 3/3 [00:00<00:00,  4.88it/s]\n",
            "                 all         44         77      0.805      0.701      0.719      0.339\n",
            "\n",
            "     Epoch   gpu_mem       box       obj       cls    labels  img_size\n",
            "      3/49    0.977G   0.04051   0.02671         0        36       416: 100% 320/320 [01:52<00:00,  2.84it/s]\n",
            "               Class     Images     Labels          P          R     mAP@.5 mAP@.5:.95: 100% 3/3 [00:00<00:00,  4.23it/s]\n",
            "                 all         44         77      0.853      0.753      0.793      0.429\n",
            "\n",
            "     Epoch   gpu_mem       box       obj       cls    labels  img_size\n",
            "      4/49    0.977G   0.03647   0.02531         0        24       416: 100% 320/320 [01:58<00:00,  2.70it/s]\n",
            "               Class     Images     Labels          P          R     mAP@.5 mAP@.5:.95: 100% 3/3 [00:00<00:00,  4.83it/s]\n",
            "                 all         44         77       0.84      0.753      0.819      0.473\n",
            "\n",
            "     Epoch   gpu_mem       box       obj       cls    labels  img_size\n",
            "      5/49    0.977G   0.03435   0.02462         0         9       416: 100% 320/320 [02:00<00:00,  2.66it/s]\n",
            "               Class     Images     Labels          P          R     mAP@.5 mAP@.5:.95: 100% 3/3 [00:00<00:00,  4.32it/s]\n",
            "                 all         44         77      0.847      0.792      0.823      0.491\n",
            "\n",
            "     Epoch   gpu_mem       box       obj       cls    labels  img_size\n",
            "      6/49    0.977G   0.03326   0.02393         0        27       416: 100% 320/320 [01:58<00:00,  2.70it/s]\n",
            "               Class     Images     Labels          P          R     mAP@.5 mAP@.5:.95: 100% 3/3 [00:00<00:00,  4.56it/s]\n",
            "                 all         44         77      0.849      0.805      0.822      0.471\n",
            "\n",
            "     Epoch   gpu_mem       box       obj       cls    labels  img_size\n",
            "      7/49    0.977G   0.03218   0.02425         0        28       416: 100% 320/320 [02:00<00:00,  2.65it/s]\n",
            "               Class     Images     Labels          P          R     mAP@.5 mAP@.5:.95: 100% 3/3 [00:00<00:00,  4.06it/s]\n",
            "                 all         44         77      0.851      0.818      0.821      0.464\n",
            "\n",
            "     Epoch   gpu_mem       box       obj       cls    labels  img_size\n",
            "      8/49    0.977G   0.03179   0.02482         0        18       416: 100% 320/320 [02:16<00:00,  2.35it/s]\n",
            "               Class     Images     Labels          P          R     mAP@.5 mAP@.5:.95: 100% 3/3 [00:00<00:00,  4.99it/s]\n",
            "                 all         44         77      0.835      0.792      0.825       0.47\n",
            "\n",
            "     Epoch   gpu_mem       box       obj       cls    labels  img_size\n",
            "      9/49    0.977G   0.03102   0.02365         0        20       416: 100% 320/320 [02:09<00:00,  2.48it/s]\n",
            "               Class     Images     Labels          P          R     mAP@.5 mAP@.5:.95: 100% 3/3 [00:00<00:00,  4.62it/s]\n",
            "                 all         44         77      0.831      0.766       0.79      0.467\n",
            "\n",
            "     Epoch   gpu_mem       box       obj       cls    labels  img_size\n",
            "     10/49    0.977G   0.03067   0.02311         0         9       416: 100% 320/320 [01:59<00:00,  2.67it/s]\n",
            "               Class     Images     Labels          P          R     mAP@.5 mAP@.5:.95: 100% 3/3 [00:00<00:00,  4.53it/s]\n",
            "                 all         44         77      0.859      0.792      0.807      0.458\n",
            "\n",
            "     Epoch   gpu_mem       box       obj       cls    labels  img_size\n",
            "     11/49    0.977G   0.02997   0.02297         0        14       416: 100% 320/320 [02:02<00:00,  2.60it/s]\n",
            "               Class     Images     Labels          P          R     mAP@.5 mAP@.5:.95: 100% 3/3 [00:00<00:00,  4.22it/s]\n",
            "                 all         44         77      0.861      0.805       0.85      0.511\n",
            "\n",
            "     Epoch   gpu_mem       box       obj       cls    labels  img_size\n",
            "     12/49    0.977G   0.02962   0.02255         0        28       416: 100% 320/320 [02:02<00:00,  2.62it/s]\n",
            "               Class     Images     Labels          P          R     mAP@.5 mAP@.5:.95: 100% 3/3 [00:00<00:00,  4.68it/s]\n",
            "                 all         44         77      0.843      0.766      0.815       0.48\n",
            "\n",
            "     Epoch   gpu_mem       box       obj       cls    labels  img_size\n",
            "     13/49    0.977G   0.02943   0.02336         0        36       416: 100% 320/320 [02:00<00:00,  2.67it/s]\n",
            "               Class     Images     Labels          P          R     mAP@.5 mAP@.5:.95: 100% 3/3 [00:00<00:00,  4.02it/s]\n",
            "                 all         44         77      0.797      0.816      0.854        0.5\n",
            "\n",
            "     Epoch   gpu_mem       box       obj       cls    labels  img_size\n",
            "     14/49    0.977G   0.02882   0.02275         0        25       416: 100% 320/320 [01:59<00:00,  2.68it/s]\n",
            "               Class     Images     Labels          P          R     mAP@.5 mAP@.5:.95: 100% 3/3 [00:00<00:00,  4.51it/s]\n",
            "                 all         44         77      0.867      0.766      0.838       0.47\n",
            "\n",
            "     Epoch   gpu_mem       box       obj       cls    labels  img_size\n",
            "     15/49    0.977G    0.0289   0.02251         0        18       416: 100% 320/320 [02:00<00:00,  2.66it/s]\n",
            "               Class     Images     Labels          P          R     mAP@.5 mAP@.5:.95: 100% 3/3 [00:00<00:00,  4.67it/s]\n",
            "                 all         44         77      0.853      0.831      0.856      0.478\n",
            "\n",
            "     Epoch   gpu_mem       box       obj       cls    labels  img_size\n",
            "     16/49    0.977G   0.02857   0.02224         0        13       416: 100% 320/320 [02:04<00:00,  2.58it/s]\n",
            "               Class     Images     Labels          P          R     mAP@.5 mAP@.5:.95: 100% 3/3 [00:00<00:00,  4.36it/s]\n",
            "                 all         44         77      0.831      0.831      0.827      0.469\n",
            "\n",
            "     Epoch   gpu_mem       box       obj       cls    labels  img_size\n",
            "     17/49    0.977G   0.02815   0.02176         0        37       416: 100% 320/320 [02:01<00:00,  2.64it/s]\n",
            "               Class     Images     Labels          P          R     mAP@.5 mAP@.5:.95: 100% 3/3 [00:00<00:00,  4.28it/s]\n",
            "                 all         44         77      0.848      0.727        0.8      0.455\n",
            "\n",
            "     Epoch   gpu_mem       box       obj       cls    labels  img_size\n",
            "     18/49    0.977G   0.02809   0.02235         0        24       416: 100% 320/320 [02:02<00:00,  2.62it/s]\n",
            "               Class     Images     Labels          P          R     mAP@.5 mAP@.5:.95: 100% 3/3 [00:00<00:00,  5.64it/s]\n",
            "                 all         44         77      0.768      0.818      0.799      0.443\n",
            "\n",
            "     Epoch   gpu_mem       box       obj       cls    labels  img_size\n",
            "     19/49    0.977G   0.02778   0.02191         0        31       416: 100% 320/320 [02:00<00:00,  2.65it/s]\n",
            "               Class     Images     Labels          P          R     mAP@.5 mAP@.5:.95: 100% 3/3 [00:00<00:00,  5.68it/s]\n",
            "                 all         44         77      0.827      0.805      0.828      0.454\n",
            "\n",
            "     Epoch   gpu_mem       box       obj       cls    labels  img_size\n",
            "     20/49    0.977G   0.02794   0.02179         0        19       416: 100% 320/320 [02:03<00:00,  2.59it/s]\n",
            "               Class     Images     Labels          P          R     mAP@.5 mAP@.5:.95: 100% 3/3 [00:00<00:00,  3.99it/s]\n",
            "                 all         44         77      0.879      0.753      0.822      0.465\n",
            "\n",
            "     Epoch   gpu_mem       box       obj       cls    labels  img_size\n",
            "     21/49    0.979G   0.02733   0.02135         0        13       416: 100% 320/320 [02:01<00:00,  2.63it/s]\n",
            "               Class     Images     Labels          P          R     mAP@.5 mAP@.5:.95: 100% 3/3 [00:00<00:00,  4.58it/s]\n",
            "                 all         44         77      0.882      0.779      0.814      0.463\n",
            "\n",
            "     Epoch   gpu_mem       box       obj       cls    labels  img_size\n",
            "     22/49    0.979G   0.02681   0.02115         0        16       416: 100% 320/320 [02:01<00:00,  2.63it/s]\n",
            "               Class     Images     Labels          P          R     mAP@.5 mAP@.5:.95: 100% 3/3 [00:00<00:00,  4.12it/s]\n",
            "                 all         44         77      0.891      0.739      0.809      0.479\n",
            "\n",
            "     Epoch   gpu_mem       box       obj       cls    labels  img_size\n",
            "     23/49    0.979G   0.02701   0.02153         0        24       416: 100% 320/320 [02:08<00:00,  2.50it/s]\n",
            "               Class     Images     Labels          P          R     mAP@.5 mAP@.5:.95: 100% 3/3 [00:01<00:00,  2.85it/s]\n",
            "                 all         44         77      0.845      0.779      0.793       0.49\n",
            "\n",
            "     Epoch   gpu_mem       box       obj       cls    labels  img_size\n",
            "     24/49    0.979G    0.0269   0.02165         0        29       416: 100% 320/320 [02:11<00:00,  2.44it/s]\n",
            "               Class     Images     Labels          P          R     mAP@.5 mAP@.5:.95: 100% 3/3 [00:00<00:00,  4.75it/s]\n",
            "                 all         44         77      0.847      0.792      0.824      0.484\n",
            "\n",
            "     Epoch   gpu_mem       box       obj       cls    labels  img_size\n",
            "     25/49    0.979G   0.02643   0.02086         0        14       416: 100% 320/320 [02:06<00:00,  2.52it/s]\n",
            "               Class     Images     Labels          P          R     mAP@.5 mAP@.5:.95: 100% 3/3 [00:00<00:00,  4.98it/s]\n",
            "                 all         44         77      0.861      0.805      0.844      0.503\n",
            "\n",
            "     Epoch   gpu_mem       box       obj       cls    labels  img_size\n",
            "     26/49    0.979G   0.02617   0.02085         0        19       416: 100% 320/320 [02:01<00:00,  2.63it/s]\n",
            "               Class     Images     Labels          P          R     mAP@.5 mAP@.5:.95: 100% 3/3 [00:00<00:00,  4.84it/s]\n",
            "                 all         44         77      0.855      0.766      0.807      0.468\n",
            "\n",
            "     Epoch   gpu_mem       box       obj       cls    labels  img_size\n",
            "     27/49    0.979G   0.02632   0.02105         0        54       416: 100% 320/320 [02:02<00:00,  2.61it/s]\n",
            "               Class     Images     Labels          P          R     mAP@.5 mAP@.5:.95: 100% 3/3 [00:00<00:00,  4.17it/s]\n",
            "                 all         44         77      0.859      0.714      0.799      0.467\n",
            "\n",
            "     Epoch   gpu_mem       box       obj       cls    labels  img_size\n",
            "     28/49    0.979G   0.02649     0.022         0        23       416: 100% 320/320 [02:00<00:00,  2.66it/s]\n",
            "               Class     Images     Labels          P          R     mAP@.5 mAP@.5:.95: 100% 3/3 [00:00<00:00,  4.72it/s]\n",
            "                 all         44         77      0.876       0.74      0.812      0.494\n",
            "\n",
            "     Epoch   gpu_mem       box       obj       cls    labels  img_size\n",
            "     29/49    0.979G   0.02605    0.0211         0        21       416: 100% 320/320 [02:01<00:00,  2.64it/s]\n",
            "               Class     Images     Labels          P          R     mAP@.5 mAP@.5:.95: 100% 3/3 [00:00<00:00,  5.46it/s]\n",
            "                 all         44         77      0.859      0.714      0.807      0.487\n",
            "\n",
            "     Epoch   gpu_mem       box       obj       cls    labels  img_size\n",
            "     30/49    0.979G   0.02568   0.02085         0        13       416: 100% 320/320 [02:01<00:00,  2.63it/s]\n",
            "               Class     Images     Labels          P          R     mAP@.5 mAP@.5:.95: 100% 3/3 [00:00<00:00,  4.35it/s]\n",
            "                 all         44         77      0.859      0.714      0.798      0.462\n",
            "\n",
            "     Epoch   gpu_mem       box       obj       cls    labels  img_size\n",
            "     31/49    0.979G   0.02573   0.02043         0        37       416: 100% 320/320 [02:03<00:00,  2.59it/s]\n",
            "               Class     Images     Labels          P          R     mAP@.5 mAP@.5:.95: 100% 3/3 [00:00<00:00,  4.20it/s]\n",
            "                 all         44         77      0.766      0.766      0.788      0.453\n",
            "\n",
            "     Epoch   gpu_mem       box       obj       cls    labels  img_size\n",
            "     32/49    0.979G   0.02521   0.02011         0        40       416: 100% 320/320 [02:03<00:00,  2.59it/s]\n",
            "               Class     Images     Labels          P          R     mAP@.5 mAP@.5:.95: 100% 3/3 [00:00<00:00,  4.49it/s]\n",
            "                 all         44         77      0.814       0.74      0.805      0.485\n",
            "\n",
            "     Epoch   gpu_mem       box       obj       cls    labels  img_size\n",
            "     33/49    0.979G   0.02531   0.02068         0        18       416: 100% 320/320 [02:05<00:00,  2.56it/s]\n",
            "               Class     Images     Labels          P          R     mAP@.5 mAP@.5:.95: 100% 3/3 [00:00<00:00,  4.32it/s]\n",
            "                 all         44         77      0.851       0.74      0.825      0.503\n",
            "\n",
            "     Epoch   gpu_mem       box       obj       cls    labels  img_size\n",
            "     34/49    0.979G   0.02505   0.01974         0        17       416: 100% 320/320 [02:07<00:00,  2.52it/s]\n",
            "               Class     Images     Labels          P          R     mAP@.5 mAP@.5:.95: 100% 3/3 [00:00<00:00,  4.66it/s]\n",
            "                 all         44         77      0.871      0.701      0.824      0.507\n",
            "\n",
            "     Epoch   gpu_mem       box       obj       cls    labels  img_size\n",
            "     35/49    0.979G   0.02497   0.02086         0        21       416: 100% 320/320 [02:06<00:00,  2.54it/s]\n",
            "               Class     Images     Labels          P          R     mAP@.5 mAP@.5:.95: 100% 3/3 [00:00<00:00,  4.21it/s]\n",
            "                 all         44         77      0.803      0.688      0.757      0.455\n",
            "\n",
            "     Epoch   gpu_mem       box       obj       cls    labels  img_size\n",
            "     36/49    0.979G   0.02469   0.02026         0        37       416: 100% 320/320 [02:07<00:00,  2.52it/s]\n",
            "               Class     Images     Labels          P          R     mAP@.5 mAP@.5:.95: 100% 3/3 [00:00<00:00,  4.01it/s]\n",
            "                 all         44         77      0.806      0.753      0.815      0.482\n",
            "\n",
            "     Epoch   gpu_mem       box       obj       cls    labels  img_size\n",
            "     37/49    0.979G   0.02453   0.01984         0        16       416: 100% 320/320 [02:05<00:00,  2.54it/s]\n",
            "               Class     Images     Labels          P          R     mAP@.5 mAP@.5:.95: 100% 3/3 [00:00<00:00,  4.66it/s]\n",
            "                 all         44         77      0.775      0.805       0.84      0.517\n",
            "\n",
            "     Epoch   gpu_mem       box       obj       cls    labels  img_size\n",
            "     38/49    0.979G   0.02449   0.01933         0        18       416: 100% 320/320 [01:59<00:00,  2.69it/s]\n",
            "               Class     Images     Labels          P          R     mAP@.5 mAP@.5:.95: 100% 3/3 [00:00<00:00,  4.70it/s]\n",
            "                 all         44         77      0.817      0.753      0.807      0.479\n",
            "\n",
            "     Epoch   gpu_mem       box       obj       cls    labels  img_size\n",
            "     39/49    0.979G    0.0243   0.01939         0        17       416: 100% 320/320 [01:57<00:00,  2.71it/s]\n",
            "               Class     Images     Labels          P          R     mAP@.5 mAP@.5:.95: 100% 3/3 [00:00<00:00,  5.34it/s]\n",
            "                 all         44         77      0.896      0.675      0.789      0.479\n",
            "\n",
            "     Epoch   gpu_mem       box       obj       cls    labels  img_size\n",
            "     40/49    0.979G    0.0245   0.02014         0        13       416: 100% 320/320 [01:59<00:00,  2.69it/s]\n",
            "               Class     Images     Labels          P          R     mAP@.5 mAP@.5:.95: 100% 3/3 [00:00<00:00,  4.05it/s]\n",
            "                 all         44         77      0.778      0.779      0.825        0.5\n",
            "\n",
            "     Epoch   gpu_mem       box       obj       cls    labels  img_size\n",
            "     41/49    0.979G   0.02416   0.01956         0        40       416: 100% 320/320 [02:02<00:00,  2.61it/s]\n",
            "               Class     Images     Labels          P          R     mAP@.5 mAP@.5:.95: 100% 3/3 [00:00<00:00,  4.32it/s]\n",
            "                 all         44         77      0.728      0.766      0.789      0.491\n",
            "\n",
            "     Epoch   gpu_mem       box       obj       cls    labels  img_size\n",
            "     42/49    0.979G   0.02376   0.01988         0        42       416: 100% 320/320 [02:04<00:00,  2.58it/s]\n",
            "               Class     Images     Labels          P          R     mAP@.5 mAP@.5:.95: 100% 3/3 [00:00<00:00,  4.47it/s]\n",
            "                 all         44         77      0.713      0.805      0.801        0.5\n",
            "\n",
            "     Epoch   gpu_mem       box       obj       cls    labels  img_size\n",
            "     43/49    0.979G   0.02404   0.01978         0        21       416: 100% 320/320 [02:03<00:00,  2.59it/s]\n",
            "               Class     Images     Labels          P          R     mAP@.5 mAP@.5:.95: 100% 3/3 [00:00<00:00,  4.18it/s]\n",
            "                 all         44         77      0.797      0.766      0.821      0.505\n",
            "\n",
            "     Epoch   gpu_mem       box       obj       cls    labels  img_size\n",
            "     44/49    0.979G    0.0237   0.01977         0        16       416: 100% 320/320 [02:05<00:00,  2.55it/s]\n",
            "               Class     Images     Labels          P          R     mAP@.5 mAP@.5:.95: 100% 3/3 [00:00<00:00,  4.09it/s]\n",
            "                 all         44         77        0.8      0.727      0.799      0.494\n",
            "\n",
            "     Epoch   gpu_mem       box       obj       cls    labels  img_size\n",
            "     45/49    0.979G     0.024   0.02023         0        19       416: 100% 320/320 [02:09<00:00,  2.48it/s]\n",
            "               Class     Images     Labels          P          R     mAP@.5 mAP@.5:.95: 100% 3/3 [00:00<00:00,  4.23it/s]\n",
            "                 all         44         77      0.859      0.714      0.806      0.495\n",
            "\n",
            "     Epoch   gpu_mem       box       obj       cls    labels  img_size\n",
            "     46/49    0.979G   0.02315   0.01853         0        19       416: 100% 320/320 [02:04<00:00,  2.58it/s]\n",
            "               Class     Images     Labels          P          R     mAP@.5 mAP@.5:.95: 100% 3/3 [00:00<00:00,  4.62it/s]\n",
            "                 all         44         77      0.848      0.727      0.813      0.502\n",
            "\n",
            "     Epoch   gpu_mem       box       obj       cls    labels  img_size\n",
            "     47/49    0.979G   0.02316   0.01925         0        20       416: 100% 320/320 [02:06<00:00,  2.54it/s]\n",
            "               Class     Images     Labels          P          R     mAP@.5 mAP@.5:.95: 100% 3/3 [00:00<00:00,  4.92it/s]\n",
            "                 all         44         77      0.782      0.792        0.8       0.49\n",
            "\n",
            "     Epoch   gpu_mem       box       obj       cls    labels  img_size\n",
            "     48/49    0.979G   0.02307   0.01846         0        13       416: 100% 320/320 [02:01<00:00,  2.62it/s]\n",
            "               Class     Images     Labels          P          R     mAP@.5 mAP@.5:.95: 100% 3/3 [00:00<00:00,  4.57it/s]\n",
            "                 all         44         77      0.756      0.805      0.804      0.488\n",
            "\n",
            "     Epoch   gpu_mem       box       obj       cls    labels  img_size\n",
            "     49/49    0.979G   0.02316   0.01928         0        33       416: 100% 320/320 [02:02<00:00,  2.61it/s]\n",
            "               Class     Images     Labels          P          R     mAP@.5 mAP@.5:.95: 100% 3/3 [00:00<00:00,  4.57it/s]\n",
            "                 all         44         77      0.765      0.805      0.803      0.478\n",
            "\n",
            "50 epochs completed in 1.734 hours.\n",
            "Optimizer stripped from yolov5/runs/train/exp2/weights/last.pt, 14.3MB\n",
            "Optimizer stripped from yolov5/runs/train/exp2/weights/best.pt, 14.3MB\n",
            "\n",
            "Validating yolov5/runs/train/exp2/weights/best.pt...\n",
            "Fusing layers... \n",
            "Model summary: 213 layers, 7012822 parameters, 0 gradients\n",
            "               Class     Images     Labels          P          R     mAP@.5 mAP@.5:.95: 100% 3/3 [00:01<00:00,  2.11it/s]\n",
            "                 all         44         77      0.775      0.805       0.84      0.517\n",
            "Results saved to \u001b[1myolov5/runs/train/exp2\u001b[0m\n"
          ]
        }
      ],
      "source": [
        "!python \"/content/yolov5/train.py\" --img 416 --batch 8 --epochs 50 --data \"/content/starfish-3/data.yaml\" --weights yolov5s.pt "
      ]
    },
    {
      "cell_type": "code",
      "source": [
        "%tensorboard --logdir logs/fit"
      ],
      "metadata": {
        "colab": {
          "base_uri": "https://localhost:8080/",
          "height": 839
        },
        "id": "aBDVKpj8oVjl",
        "outputId": "72eb9268-76e3-4fd4-8f84-61e78da00673"
      },
      "execution_count": null,
      "outputs": []
    },
    {
      "cell_type": "code",
      "execution_count": null,
      "metadata": {
        "colab": {
          "base_uri": "https://localhost:8080/"
        },
        "id": "xFO-jYWl6mUb",
        "outputId": "7454d919-bfbd-4885-89ed-a103ed538c1e"
      },
      "outputs": [
        {
          "name": "stderr",
          "output_type": "stream",
          "text": [
            "\u001b[34m\u001b[1mdetect: \u001b[0mweights=['D:\\\\project\\\\yolov5\\\\runs\\\\train\\\\exp2\\\\weights\\\\best.pt'], source=D:\\project\\starfish_data\\test\\images, data=yolov5\\data\\coco128.yaml, imgsz=[416, 416], conf_thres=0.1, iou_thres=0.45, max_det=1000, device=, view_img=False, save_txt=False, save_conf=False, save_crop=False, nosave=False, classes=None, agnostic_nms=False, augment=False, visualize=False, update=False, project=yolov5\\runs\\detect, name=exp, exist_ok=False, line_thickness=3, hide_labels=False, hide_conf=False, half=False, dnn=False\n",
            "YOLOv5  v6.1-38-g7c6a335 torch 1.11.0+cpu CPU\n",
            "\n",
            "Fusing layers... \n",
            "Model Summary: 213 layers, 7012822 parameters, 0 gradients\n",
            "image 1/24 D:\\project\\starfish_data\\test\\images\\cots_100062_png.rf.a004cd4cdc7ed6545b0de3dc4e469e5a.jpg: 320x416 1 cots, Done. (0.120s)\n",
            "image 2/24 D:\\project\\starfish_data\\test\\images\\cots_100070_png.rf.16e86a4bc697e0f6052e3915ea342791.jpg: 256x416 1 cots, Done. (0.118s)\n",
            "image 3/24 D:\\project\\starfish_data\\test\\images\\cots_100127_png.rf.f12d1a5ae8ab4b91444ece35e58d571d.jpg: 256x416 1 cots, Done. (0.110s)\n",
            "image 4/24 D:\\project\\starfish_data\\test\\images\\cots_100142_png.rf.f1819cd787972c77dc53acaccf12c739.jpg: 256x416 2 cotss, Done. (0.085s)\n",
            "image 5/24 D:\\project\\starfish_data\\test\\images\\cots_100193_png.rf.e3bc11d435ab6700788857abc3d8e1a5.jpg: 256x416 2 cotss, Done. (0.056s)\n",
            "image 6/24 D:\\project\\starfish_data\\test\\images\\cots_100217_png.rf.9720c402aa91e449d8c6edbcf0e391de.jpg: 256x416 Done. (0.054s)\n",
            "image 7/24 D:\\project\\starfish_data\\test\\images\\cots_100270_png.rf.db0d541327348fc7f44d4ce1ff62714a.jpg: 320x416 1 cots, Done. (0.118s)\n",
            "image 8/24 D:\\project\\starfish_data\\test\\images\\cots_100286_png.rf.3c08c0ba797ab433516c0cd550763540.jpg: 320x416 1 cots, Done. (0.116s)\n",
            "image 9/24 D:\\project\\starfish_data\\test\\images\\cots_100329_png.rf.14d7c715c5b6ccf7baf25b2a2eb7458a.jpg: 320x416 1 cots, Done. (0.136s)\n",
            "image 10/24 D:\\project\\starfish_data\\test\\images\\cots_100360_png.rf.355f6f3f96affd2e488381adeff51ac2.jpg: 320x416 2 cotss, Done. (0.150s)\n",
            "image 11/24 D:\\project\\starfish_data\\test\\images\\cots_100369_png.rf.ebf2de0f984c98636da2112e37c03536.jpg: 320x416 2 cotss, Done. (0.146s)\n",
            "image 12/24 D:\\project\\starfish_data\\test\\images\\cots_100383_png.rf.427e3053add29910371eedadd0a78905.jpg: 320x416 1 cots, Done. (0.095s)\n",
            "image 13/24 D:\\project\\starfish_data\\test\\images\\cots_100386_png.rf.120a3a5e1174da171ae8abf516604c8e.jpg: 320x416 1 cots, Done. (0.110s)\n",
            "image 14/24 D:\\project\\starfish_data\\test\\images\\cots_100424_png.rf.cf9be5448d04b3c030ba54b6c862c843.jpg: 320x416 2 cotss, Done. (0.095s)\n",
            "image 15/24 D:\\project\\starfish_data\\test\\images\\cots_100886_png.rf.4a1cb53b586817b2f03c1e309bb67e3b.jpg: 256x416 Done. (0.106s)\n",
            "image 16/24 D:\\project\\starfish_data\\test\\images\\cots_100898_png.rf.bd7b651f08c9bd7f04e4f6f917862af5.jpg: 256x416 1 cots, Done. (0.080s)\n",
            "image 17/24 D:\\project\\starfish_data\\test\\images\\cots_101351_png.rf.a036c872a5c4f191e44155f10ba4842b.jpg: 256x416 1 cots, Done. (0.074s)\n",
            "image 18/24 D:\\project\\starfish_data\\test\\images\\cots_101453_png.rf.e5883123dcd186ff402a96efd1d33348.jpg: 256x416 2 cotss, Done. (0.081s)\n",
            "image 19/24 D:\\project\\starfish_data\\test\\images\\cots_101471_png.rf.da3171674d82c992dfb4bf26e50bd147.jpg: 256x416 2 cotss, Done. (0.100s)\n",
            "image 20/24 D:\\project\\starfish_data\\test\\images\\cots_101595_png.rf.7a6c050f6e503a9db0a0565b0291c671.jpg: 256x416 1 cots, Done. (0.087s)\n",
            "image 21/24 D:\\project\\starfish_data\\test\\images\\cots_101609_png.rf.1479cf9b659a3d70a6acab4d92628554.jpg: 256x416 1 cots, Done. (0.129s)\n",
            "image 22/24 D:\\project\\starfish_data\\test\\images\\cots_101648_png.rf.9104639fbb51c4e032e7b4d43ffaba2d.jpg: 256x416 3 cotss, Done. (0.099s)\n",
            "image 23/24 D:\\project\\starfish_data\\test\\images\\cots_101682_png.rf.ecb000c1c5f89890059465a223a45a11.jpg: 256x416 2 cotss, Done. (0.096s)\n",
            "image 24/24 D:\\project\\starfish_data\\test\\images\\cots_101799_png.rf.8fd0cbf5c3cdc3a01a0730f2852ffcfa.jpg: 256x416 1 cots, Done. (0.083s)\n",
            "Speed: 0.5ms pre-process, 101.8ms inference, 1.1ms NMS per image at shape (1, 3, 416, 416)\n",
            "Results saved to \u001b[1myolov5\\runs\\detect\\exp\u001b[0m\n"
          ]
        }
      ],
      "source": [
        "\n",
        "!python \"D:\\project\\yolov5\\detect.py\" --weights \"D:\\project\\yolov5\\runs\\train\\exp2\\weights\\best.pt\" --img 416 --conf 0.1 --source \"D:\\project\\starfish_data\\test\\images\""
      ]
    },
    {
      "cell_type": "code",
      "execution_count": null,
      "metadata": {
        "id": "4i0PiT6p6nn9"
      },
      "outputs": [],
      "source": [
        "#display inference on ALL test images\n",
        "\n",
        "import glob\n",
        "from IPython.display import Image, display\n",
        "\n",
        "for imageName in glob.glob(r'D:\\project\\yolov5\\runs/*.jpg'): #assuming JPG\n",
        "    display(Image(filename=imageName))\n",
        "    print(\"\\n\")"
      ]
    },
    {
      "cell_type": "code",
      "execution_count": null,
      "metadata": {
        "id": "tjy_l3pyGTUa",
        "outputId": "62a27f09-0e6c-45f4-b23e-226202d079e7"
      },
      "outputs": [
        {
          "name": "stdout",
          "output_type": "stream",
          "text": [
            "Downloading https://github.com/ultralytics/yolov5/releases/download/v6.1/yolov5s.pt to ..\\project\\yolov5\\yolov5s.pt...\n",
            "\n"
          ]
        },
        {
          "name": "stderr",
          "output_type": "stream",
          "text": [
            "\u001b[34m\u001b[1mdetect: \u001b[0mweights=..\\project\\yolov5\\yolov5s.pt, source=..\\project\\yolov5\\data\\images, data=..\\project\\yolov5\\data\\coco128.yaml, imgsz=[640, 640], conf_thres=0.25, iou_thres=0.45, max_det=1000, device=, view_img=False, save_txt=False, save_conf=False, save_crop=False, nosave=False, classes=None, agnostic_nms=False, augment=False, visualize=False, update=False, project=..\\project\\yolov5\\runs\\detect, name=exp, exist_ok=False, line_thickness=3, hide_labels=False, hide_conf=False, half=False, dnn=False\n",
            "YOLOv5  v6.1-38-g7c6a335 torch 1.11.0+cpu CPU\n",
            "\n",
            "\n",
            "  0%|          | 0.00/14.1M [00:00<?, ?B/s]\n",
            "  1%|          | 128k/14.1M [00:00<00:11, 1.24MB/s]\n",
            "  3%|▎         | 496k/14.1M [00:00<00:05, 2.67MB/s]\n",
            "  6%|▋         | 928k/14.1M [00:00<00:04, 3.43MB/s]\n",
            "  9%|▉         | 1.28M/14.1M [00:00<00:03, 3.61MB/s]\n",
            " 12%|█▏        | 1.67M/14.1M [00:00<00:03, 3.74MB/s]\n",
            " 15%|█▍        | 2.06M/14.1M [00:00<00:03, 3.80MB/s]\n",
            " 17%|█▋        | 2.45M/14.1M [00:00<00:03, 3.86MB/s]\n",
            " 20%|██        | 2.83M/14.1M [00:00<00:03, 3.86MB/s]\n",
            " 23%|██▎       | 3.23M/14.1M [00:00<00:02, 3.96MB/s]\n",
            " 26%|██▌       | 3.62M/14.1M [00:01<00:02, 3.89MB/s]\n",
            " 28%|██▊       | 4.02M/14.1M [00:01<00:02, 3.96MB/s]\n",
            " 31%|███       | 4.40M/14.1M [00:01<00:02, 3.91MB/s]\n",
            " 34%|███▍      | 4.78M/14.1M [00:01<00:02, 3.92MB/s]\n",
            " 37%|███▋      | 5.16M/14.1M [00:01<00:02, 3.29MB/s]\n",
            " 39%|███▉      | 5.50M/14.1M [00:01<00:02, 3.27MB/s]\n",
            " 42%|████▏     | 5.95M/14.1M [00:01<00:02, 3.49MB/s]\n",
            " 45%|████▍     | 6.31M/14.1M [00:01<00:02, 3.04MB/s]\n",
            " 47%|████▋     | 6.62M/14.1M [00:02<00:02, 2.87MB/s]\n",
            " 49%|████▉     | 6.91M/14.1M [00:02<00:03, 2.49MB/s]\n",
            " 51%|█████▏    | 7.27M/14.1M [00:02<00:02, 2.40MB/s]\n",
            " 53%|█████▎    | 7.51M/14.1M [00:02<00:03, 2.30MB/s]\n",
            " 55%|█████▌    | 7.81M/14.1M [00:02<00:02, 2.50MB/s]\n",
            " 58%|█████▊    | 8.12M/14.1M [00:02<00:02, 2.66MB/s]\n",
            " 60%|█████▉    | 8.44M/14.1M [00:02<00:02, 2.80MB/s]\n",
            " 62%|██████▏   | 8.78M/14.1M [00:02<00:01, 2.98MB/s]\n",
            " 64%|██████▍   | 9.09M/14.1M [00:03<00:01, 3.05MB/s]\n",
            " 67%|██████▋   | 9.44M/14.1M [00:03<00:01, 3.19MB/s]\n",
            " 69%|██████▉   | 9.75M/14.1M [00:03<00:01, 3.22MB/s]\n",
            " 72%|███████▏  | 10.1M/14.1M [00:03<00:01, 3.26MB/s]\n",
            " 74%|███████▍  | 10.5M/14.1M [00:03<00:01, 3.39MB/s]\n",
            " 76%|███████▋  | 10.8M/14.1M [00:03<00:01, 3.38MB/s]\n",
            " 79%|███████▉  | 11.2M/14.1M [00:03<00:00, 3.46MB/s]\n",
            " 81%|████████▏ | 11.5M/14.1M [00:03<00:00, 3.39MB/s]\n",
            " 84%|████████▍ | 11.9M/14.1M [00:03<00:00, 3.51MB/s]\n",
            " 87%|████████▋ | 12.2M/14.1M [00:03<00:00, 3.58MB/s]\n",
            " 89%|████████▉ | 12.6M/14.1M [00:04<00:00, 3.59MB/s]\n",
            " 92%|█████████▏| 12.9M/14.1M [00:04<00:00, 3.67MB/s]\n",
            " 94%|█████████▍| 13.3M/14.1M [00:04<00:00, 3.67MB/s]\n",
            " 97%|█████████▋| 13.7M/14.1M [00:04<00:00, 3.67MB/s]\n",
            " 99%|█████████▉| 14.0M/14.1M [00:04<00:00, 2.90MB/s]\n",
            "100%|██████████| 14.1M/14.1M [00:04<00:00, 3.23MB/s]\n",
            "Fusing layers... \n",
            "Model Summary: 213 layers, 7225885 parameters, 0 gradients\n",
            "image 1/2 D:\\project\\yolov5\\data\\images\\bus.jpg: 640x480 4 persons, 1 bus, Done. (0.602s)\n",
            "image 2/2 D:\\project\\yolov5\\data\\images\\zidane.jpg: 384x640 2 persons, 2 ties, Done. (0.523s)\n",
            "Speed: 2.0ms pre-process, 562.6ms inference, 5.5ms NMS per image at shape (1, 3, 640, 640)\n",
            "Results saved to \u001b[1m..\\project\\yolov5\\runs\\detect\\exp3\u001b[0m\n"
          ]
        }
      ],
      "source": [
        "!python \"D:\\project\\yolov5\\detect.py\" "
      ]
    },
    {
      "cell_type": "code",
      "execution_count": null,
      "metadata": {
        "id": "tQFcgTUTbjzR"
      },
      "outputs": [],
      "source": [
        ""
      ]
    }
  ],
  "metadata": {
    "accelerator": "GPU",
    "colab": {
      "collapsed_sections": [],
      "name": "with aug yolo5.ipynb",
      "provenance": []
    },
    "kernelspec": {
      "display_name": "Python 3",
      "name": "python3"
    },
    "language_info": {
      "codemirror_mode": {
        "name": "ipython",
        "version": 3
      },
      "file_extension": ".py",
      "mimetype": "text/x-python",
      "name": "python",
      "nbconvert_exporter": "python",
      "pygments_lexer": "ipython3",
      "version": "3.10.1"
    }
  },
  "nbformat": 4,
  "nbformat_minor": 0
}