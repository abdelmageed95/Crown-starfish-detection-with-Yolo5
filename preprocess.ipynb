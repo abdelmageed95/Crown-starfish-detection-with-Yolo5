{
 "cells": [
  {
   "cell_type": "code",
   "execution_count": null,
   "metadata": {},
   "outputs": [],
   "source": [
    "\n",
    "import numpy as np\n",
    "import matplotlib.pyplot as plt\n",
    "from skimage.io import imread, imshow\n",
    "from skimage import img_as_ubyte\n",
    "from matplotlib.patches import Rectangle\n",
    "from numpy import asarray\n",
    "from PIL import Image\n",
    "import numpy as np\n",
    "import os\n",
    "import cv2\n",
    "import matplotlib.pyplot as plt\n",
    "from skimage.io import imshow, imread\n",
    "from skimage.color import rgb2hsv, rgb2gray, rgb2yuv\n",
    "from skimage import color, exposure, transform\n",
    "from skimage.exposure import histogram, cumulative_distribution, equalize_hist\n",
    "from skimage import img_as_ubyte, img_as_uint\n",
    "\n",
    "\n",
    "def load_images_from_folder(folder,num=None):\n",
    "    images = []\n",
    "    if num:\n",
    "      dirs = os.listdir(folder)[:num]\n",
    "    else:\n",
    "      dirs =  os.listdir(folder)\n",
    "    for filename in dirs:\n",
    "        if filename.endswith(\".jpg\"):\n",
    "            img = cv2.imread(os.path.join(folder, filename), cv2.IMREAD_COLOR)\n",
    "            if img is not None:\n",
    "                images.append(img)\n",
    "    return images\n",
    "\n",
    "\n",
    "def whiteBalanced(img):\n",
    "  img_max = (img*0.5 / img.mean(axis=(0,1)))\n",
    "  return img_max\n",
    "\n",
    "\n",
    "PATH = r\"D:\\CV_project\\train\\images\"\n",
    "Copy_to_path= r\"D:\\CV_project\\out\"\n",
    "\n",
    "images = load_images_from_folder(PATH)\n",
    "\n",
    "\n",
    "\n"
   ]
  },
  {
   "cell_type": "code",
   "execution_count": null,
   "metadata": {},
   "outputs": [],
   "source": [
    "for img in images[3]:\n",
    "  pixels = asarray(img)\n",
    "  pixels = pixels.astype('float32')\n",
    "  mean = pixels.mean()\n",
    "  #outside of our boundary which is least mean\n",
    "  #and largest mean from the 5 chosen samples will be viewed\n",
    "  if mean >= 116.930 or mean <= 86.338:\n",
    "    img_max = whiteBalanced(img)\n",
    "    cv2.imwrite(Copy_to_path,img_max)\n",
    "    #img.save(Copy_to_path+str(mean)+\".png\") \n",
    "  \n",
    "plt.show()"
   ]
  }
 ],
 "metadata": {
  "interpreter": {
   "hash": "ae305f4dee197bdc0c916b004f5792eca0da2328f3eb5fe8e31b308819fc7eb2"
  },
  "kernelspec": {
   "display_name": "Python 3.10.1 64-bit",
   "language": "python",
   "name": "python3"
  },
  "language_info": {
   "codemirror_mode": {
    "name": "ipython",
    "version": 3
   },
   "file_extension": ".py",
   "mimetype": "text/x-python",
   "name": "python",
   "nbconvert_exporter": "python",
   "pygments_lexer": "ipython3",
   "version": "3.10.1"
  },
  "orig_nbformat": 4
 },
 "nbformat": 4,
 "nbformat_minor": 2
}
